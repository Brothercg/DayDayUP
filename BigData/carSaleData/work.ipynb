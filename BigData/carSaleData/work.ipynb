{
 "cells": [
  {
   "cell_type": "code",
   "execution_count": 2,
   "metadata": {},
   "outputs": [],
   "source": [
    "import pandas as pd"
   ]
  },
  {
   "cell_type": "markdown",
   "metadata": {},
   "source": [
    "# 数据读取"
   ]
  },
  {
   "cell_type": "markdown",
   "metadata": {},
   "source": [
    "## 车辆于各省的销售数据"
   ]
  },
  {
   "cell_type": "code",
   "execution_count": 3,
   "metadata": {},
   "outputs": [
    {
     "name": "stdout",
     "output_type": "stream",
     "text": [
      "(31680, 7)\n"
     ]
    },
    {
     "data": {
      "text/html": [
       "<div>\n",
       "<style scoped>\n",
       "    .dataframe tbody tr th:only-of-type {\n",
       "        vertical-align: middle;\n",
       "    }\n",
       "\n",
       "    .dataframe tbody tr th {\n",
       "        vertical-align: top;\n",
       "    }\n",
       "\n",
       "    .dataframe thead th {\n",
       "        text-align: right;\n",
       "    }\n",
       "</style>\n",
       "<table border=\"1\" class=\"dataframe\">\n",
       "  <thead>\n",
       "    <tr style=\"text-align: right;\">\n",
       "      <th></th>\n",
       "      <th>province</th>\n",
       "      <th>adcode</th>\n",
       "      <th>model</th>\n",
       "      <th>bodyType</th>\n",
       "      <th>regYear</th>\n",
       "      <th>regMonth</th>\n",
       "      <th>salesVolume</th>\n",
       "    </tr>\n",
       "  </thead>\n",
       "  <tbody>\n",
       "    <tr>\n",
       "      <th>0</th>\n",
       "      <td>上海</td>\n",
       "      <td>310000</td>\n",
       "      <td>3c974920a76ac9c1</td>\n",
       "      <td>SUV</td>\n",
       "      <td>2016</td>\n",
       "      <td>1</td>\n",
       "      <td>292</td>\n",
       "    </tr>\n",
       "    <tr>\n",
       "      <th>1</th>\n",
       "      <td>云南</td>\n",
       "      <td>530000</td>\n",
       "      <td>3c974920a76ac9c1</td>\n",
       "      <td>SUV</td>\n",
       "      <td>2016</td>\n",
       "      <td>1</td>\n",
       "      <td>466</td>\n",
       "    </tr>\n",
       "    <tr>\n",
       "      <th>2</th>\n",
       "      <td>内蒙古</td>\n",
       "      <td>150000</td>\n",
       "      <td>3c974920a76ac9c1</td>\n",
       "      <td>SUV</td>\n",
       "      <td>2016</td>\n",
       "      <td>1</td>\n",
       "      <td>257</td>\n",
       "    </tr>\n",
       "    <tr>\n",
       "      <th>3</th>\n",
       "      <td>北京</td>\n",
       "      <td>110000</td>\n",
       "      <td>3c974920a76ac9c1</td>\n",
       "      <td>SUV</td>\n",
       "      <td>2016</td>\n",
       "      <td>1</td>\n",
       "      <td>408</td>\n",
       "    </tr>\n",
       "    <tr>\n",
       "      <th>4</th>\n",
       "      <td>四川</td>\n",
       "      <td>510000</td>\n",
       "      <td>3c974920a76ac9c1</td>\n",
       "      <td>SUV</td>\n",
       "      <td>2016</td>\n",
       "      <td>1</td>\n",
       "      <td>610</td>\n",
       "    </tr>\n",
       "  </tbody>\n",
       "</table>\n",
       "</div>"
      ],
      "text/plain": [
       "  province  adcode             model bodyType  regYear  regMonth  salesVolume\n",
       "0       上海  310000  3c974920a76ac9c1      SUV     2016         1          292\n",
       "1       云南  530000  3c974920a76ac9c1      SUV     2016         1          466\n",
       "2      内蒙古  150000  3c974920a76ac9c1      SUV     2016         1          257\n",
       "3       北京  110000  3c974920a76ac9c1      SUV     2016         1          408\n",
       "4       四川  510000  3c974920a76ac9c1      SUV     2016         1          610"
      ]
     },
     "execution_count": 3,
     "metadata": {},
     "output_type": "execute_result"
    }
   ],
   "source": [
    "train_sales_data = pd.read_csv('train/train_sales_data.csv')\n",
    "print(train_sales_data.shape)\n",
    "train_sales_data.head()"
   ]
  },
  {
   "cell_type": "markdown",
   "metadata": {},
   "source": [
    "## 车辆于各省的搜索数据"
   ]
  },
  {
   "cell_type": "code",
   "execution_count": 4,
   "metadata": {},
   "outputs": [
    {
     "name": "stdout",
     "output_type": "stream",
     "text": [
      "(31680, 6)\n"
     ]
    },
    {
     "data": {
      "text/html": [
       "<div>\n",
       "<style scoped>\n",
       "    .dataframe tbody tr th:only-of-type {\n",
       "        vertical-align: middle;\n",
       "    }\n",
       "\n",
       "    .dataframe tbody tr th {\n",
       "        vertical-align: top;\n",
       "    }\n",
       "\n",
       "    .dataframe thead th {\n",
       "        text-align: right;\n",
       "    }\n",
       "</style>\n",
       "<table border=\"1\" class=\"dataframe\">\n",
       "  <thead>\n",
       "    <tr style=\"text-align: right;\">\n",
       "      <th></th>\n",
       "      <th>province</th>\n",
       "      <th>adcode</th>\n",
       "      <th>model</th>\n",
       "      <th>regYear</th>\n",
       "      <th>regMonth</th>\n",
       "      <th>popularity</th>\n",
       "    </tr>\n",
       "  </thead>\n",
       "  <tbody>\n",
       "    <tr>\n",
       "      <th>0</th>\n",
       "      <td>河南</td>\n",
       "      <td>410000</td>\n",
       "      <td>17bc272c93f19d56</td>\n",
       "      <td>2016</td>\n",
       "      <td>1</td>\n",
       "      <td>19036</td>\n",
       "    </tr>\n",
       "    <tr>\n",
       "      <th>1</th>\n",
       "      <td>河南</td>\n",
       "      <td>410000</td>\n",
       "      <td>17bc272c93f19d56</td>\n",
       "      <td>2016</td>\n",
       "      <td>2</td>\n",
       "      <td>17856</td>\n",
       "    </tr>\n",
       "    <tr>\n",
       "      <th>2</th>\n",
       "      <td>河南</td>\n",
       "      <td>410000</td>\n",
       "      <td>17bc272c93f19d56</td>\n",
       "      <td>2016</td>\n",
       "      <td>3</td>\n",
       "      <td>12517</td>\n",
       "    </tr>\n",
       "    <tr>\n",
       "      <th>3</th>\n",
       "      <td>河南</td>\n",
       "      <td>410000</td>\n",
       "      <td>17bc272c93f19d56</td>\n",
       "      <td>2016</td>\n",
       "      <td>4</td>\n",
       "      <td>9700</td>\n",
       "    </tr>\n",
       "    <tr>\n",
       "      <th>4</th>\n",
       "      <td>河南</td>\n",
       "      <td>410000</td>\n",
       "      <td>17bc272c93f19d56</td>\n",
       "      <td>2016</td>\n",
       "      <td>5</td>\n",
       "      <td>12780</td>\n",
       "    </tr>\n",
       "  </tbody>\n",
       "</table>\n",
       "</div>"
      ],
      "text/plain": [
       "  province  adcode             model  regYear  regMonth  popularity\n",
       "0       河南  410000  17bc272c93f19d56     2016         1       19036\n",
       "1       河南  410000  17bc272c93f19d56     2016         2       17856\n",
       "2       河南  410000  17bc272c93f19d56     2016         3       12517\n",
       "3       河南  410000  17bc272c93f19d56     2016         4        9700\n",
       "4       河南  410000  17bc272c93f19d56     2016         5       12780"
      ]
     },
     "execution_count": 4,
     "metadata": {},
     "output_type": "execute_result"
    }
   ],
   "source": [
    "train_search_data = pd.read_csv('train/train_search_data.csv')\n",
    "print(train_search_data.shape)\n",
    "train_search_data.head()"
   ]
  },
  {
   "cell_type": "markdown",
   "metadata": {},
   "source": [
    "## 评论、评价数据数据"
   ]
  },
  {
   "cell_type": "code",
   "execution_count": 5,
   "metadata": {},
   "outputs": [
    {
     "name": "stdout",
     "output_type": "stream",
     "text": [
      "(1440, 5)\n"
     ]
    },
    {
     "data": {
      "text/html": [
       "<div>\n",
       "<style scoped>\n",
       "    .dataframe tbody tr th:only-of-type {\n",
       "        vertical-align: middle;\n",
       "    }\n",
       "\n",
       "    .dataframe tbody tr th {\n",
       "        vertical-align: top;\n",
       "    }\n",
       "\n",
       "    .dataframe thead th {\n",
       "        text-align: right;\n",
       "    }\n",
       "</style>\n",
       "<table border=\"1\" class=\"dataframe\">\n",
       "  <thead>\n",
       "    <tr style=\"text-align: right;\">\n",
       "      <th></th>\n",
       "      <th>model</th>\n",
       "      <th>regYear</th>\n",
       "      <th>regMonth</th>\n",
       "      <th>carCommentVolum</th>\n",
       "      <th>newsReplyVolum</th>\n",
       "    </tr>\n",
       "  </thead>\n",
       "  <tbody>\n",
       "    <tr>\n",
       "      <th>0</th>\n",
       "      <td>02aab221aabc03b9</td>\n",
       "      <td>2016</td>\n",
       "      <td>1</td>\n",
       "      <td>132</td>\n",
       "      <td>399</td>\n",
       "    </tr>\n",
       "    <tr>\n",
       "      <th>1</th>\n",
       "      <td>02aab221aabc03b9</td>\n",
       "      <td>2016</td>\n",
       "      <td>2</td>\n",
       "      <td>160</td>\n",
       "      <td>3043</td>\n",
       "    </tr>\n",
       "    <tr>\n",
       "      <th>2</th>\n",
       "      <td>02aab221aabc03b9</td>\n",
       "      <td>2016</td>\n",
       "      <td>3</td>\n",
       "      <td>357</td>\n",
       "      <td>798</td>\n",
       "    </tr>\n",
       "    <tr>\n",
       "      <th>3</th>\n",
       "      <td>02aab221aabc03b9</td>\n",
       "      <td>2016</td>\n",
       "      <td>4</td>\n",
       "      <td>243</td>\n",
       "      <td>3821</td>\n",
       "    </tr>\n",
       "    <tr>\n",
       "      <th>4</th>\n",
       "      <td>02aab221aabc03b9</td>\n",
       "      <td>2016</td>\n",
       "      <td>5</td>\n",
       "      <td>283</td>\n",
       "      <td>933</td>\n",
       "    </tr>\n",
       "    <tr>\n",
       "      <th>5</th>\n",
       "      <td>02aab221aabc03b9</td>\n",
       "      <td>2016</td>\n",
       "      <td>6</td>\n",
       "      <td>252</td>\n",
       "      <td>143</td>\n",
       "    </tr>\n",
       "    <tr>\n",
       "      <th>6</th>\n",
       "      <td>02aab221aabc03b9</td>\n",
       "      <td>2016</td>\n",
       "      <td>7</td>\n",
       "      <td>557</td>\n",
       "      <td>623</td>\n",
       "    </tr>\n",
       "    <tr>\n",
       "      <th>7</th>\n",
       "      <td>02aab221aabc03b9</td>\n",
       "      <td>2016</td>\n",
       "      <td>8</td>\n",
       "      <td>652</td>\n",
       "      <td>1809</td>\n",
       "    </tr>\n",
       "    <tr>\n",
       "      <th>8</th>\n",
       "      <td>02aab221aabc03b9</td>\n",
       "      <td>2016</td>\n",
       "      <td>9</td>\n",
       "      <td>506</td>\n",
       "      <td>1033</td>\n",
       "    </tr>\n",
       "    <tr>\n",
       "      <th>9</th>\n",
       "      <td>02aab221aabc03b9</td>\n",
       "      <td>2016</td>\n",
       "      <td>10</td>\n",
       "      <td>649</td>\n",
       "      <td>4699</td>\n",
       "    </tr>\n",
       "    <tr>\n",
       "      <th>10</th>\n",
       "      <td>02aab221aabc03b9</td>\n",
       "      <td>2016</td>\n",
       "      <td>11</td>\n",
       "      <td>436</td>\n",
       "      <td>1948</td>\n",
       "    </tr>\n",
       "    <tr>\n",
       "      <th>11</th>\n",
       "      <td>02aab221aabc03b9</td>\n",
       "      <td>2016</td>\n",
       "      <td>12</td>\n",
       "      <td>361</td>\n",
       "      <td>1283</td>\n",
       "    </tr>\n",
       "    <tr>\n",
       "      <th>12</th>\n",
       "      <td>02aab221aabc03b9</td>\n",
       "      <td>2017</td>\n",
       "      <td>1</td>\n",
       "      <td>375</td>\n",
       "      <td>774</td>\n",
       "    </tr>\n",
       "    <tr>\n",
       "      <th>13</th>\n",
       "      <td>02aab221aabc03b9</td>\n",
       "      <td>2017</td>\n",
       "      <td>2</td>\n",
       "      <td>483</td>\n",
       "      <td>2156</td>\n",
       "    </tr>\n",
       "    <tr>\n",
       "      <th>14</th>\n",
       "      <td>02aab221aabc03b9</td>\n",
       "      <td>2017</td>\n",
       "      <td>3</td>\n",
       "      <td>848</td>\n",
       "      <td>2144</td>\n",
       "    </tr>\n",
       "    <tr>\n",
       "      <th>15</th>\n",
       "      <td>02aab221aabc03b9</td>\n",
       "      <td>2017</td>\n",
       "      <td>4</td>\n",
       "      <td>380</td>\n",
       "      <td>310</td>\n",
       "    </tr>\n",
       "    <tr>\n",
       "      <th>16</th>\n",
       "      <td>02aab221aabc03b9</td>\n",
       "      <td>2017</td>\n",
       "      <td>5</td>\n",
       "      <td>554</td>\n",
       "      <td>2579</td>\n",
       "    </tr>\n",
       "    <tr>\n",
       "      <th>17</th>\n",
       "      <td>02aab221aabc03b9</td>\n",
       "      <td>2017</td>\n",
       "      <td>6</td>\n",
       "      <td>310</td>\n",
       "      <td>546</td>\n",
       "    </tr>\n",
       "    <tr>\n",
       "      <th>18</th>\n",
       "      <td>02aab221aabc03b9</td>\n",
       "      <td>2017</td>\n",
       "      <td>7</td>\n",
       "      <td>626</td>\n",
       "      <td>132</td>\n",
       "    </tr>\n",
       "    <tr>\n",
       "      <th>19</th>\n",
       "      <td>02aab221aabc03b9</td>\n",
       "      <td>2017</td>\n",
       "      <td>8</td>\n",
       "      <td>843</td>\n",
       "      <td>2982</td>\n",
       "    </tr>\n",
       "    <tr>\n",
       "      <th>20</th>\n",
       "      <td>02aab221aabc03b9</td>\n",
       "      <td>2017</td>\n",
       "      <td>9</td>\n",
       "      <td>1058</td>\n",
       "      <td>378</td>\n",
       "    </tr>\n",
       "    <tr>\n",
       "      <th>21</th>\n",
       "      <td>02aab221aabc03b9</td>\n",
       "      <td>2017</td>\n",
       "      <td>10</td>\n",
       "      <td>784</td>\n",
       "      <td>1947</td>\n",
       "    </tr>\n",
       "    <tr>\n",
       "      <th>22</th>\n",
       "      <td>02aab221aabc03b9</td>\n",
       "      <td>2017</td>\n",
       "      <td>11</td>\n",
       "      <td>608</td>\n",
       "      <td>1113</td>\n",
       "    </tr>\n",
       "    <tr>\n",
       "      <th>23</th>\n",
       "      <td>02aab221aabc03b9</td>\n",
       "      <td>2017</td>\n",
       "      <td>12</td>\n",
       "      <td>403</td>\n",
       "      <td>2037</td>\n",
       "    </tr>\n",
       "  </tbody>\n",
       "</table>\n",
       "</div>"
      ],
      "text/plain": [
       "               model  regYear  regMonth  carCommentVolum  newsReplyVolum\n",
       "0   02aab221aabc03b9     2016         1              132             399\n",
       "1   02aab221aabc03b9     2016         2              160            3043\n",
       "2   02aab221aabc03b9     2016         3              357             798\n",
       "3   02aab221aabc03b9     2016         4              243            3821\n",
       "4   02aab221aabc03b9     2016         5              283             933\n",
       "5   02aab221aabc03b9     2016         6              252             143\n",
       "6   02aab221aabc03b9     2016         7              557             623\n",
       "7   02aab221aabc03b9     2016         8              652            1809\n",
       "8   02aab221aabc03b9     2016         9              506            1033\n",
       "9   02aab221aabc03b9     2016        10              649            4699\n",
       "10  02aab221aabc03b9     2016        11              436            1948\n",
       "11  02aab221aabc03b9     2016        12              361            1283\n",
       "12  02aab221aabc03b9     2017         1              375             774\n",
       "13  02aab221aabc03b9     2017         2              483            2156\n",
       "14  02aab221aabc03b9     2017         3              848            2144\n",
       "15  02aab221aabc03b9     2017         4              380             310\n",
       "16  02aab221aabc03b9     2017         5              554            2579\n",
       "17  02aab221aabc03b9     2017         6              310             546\n",
       "18  02aab221aabc03b9     2017         7              626             132\n",
       "19  02aab221aabc03b9     2017         8              843            2982\n",
       "20  02aab221aabc03b9     2017         9             1058             378\n",
       "21  02aab221aabc03b9     2017        10              784            1947\n",
       "22  02aab221aabc03b9     2017        11              608            1113\n",
       "23  02aab221aabc03b9     2017        12              403            2037"
      ]
     },
     "execution_count": 5,
     "metadata": {},
     "output_type": "execute_result"
    }
   ],
   "source": [
    "train_user_reply_data = pd.read_csv('train/train_user_reply_data.csv')\n",
    "print(train_user_reply_data.shape)\n",
    "train_user_reply_data.head(24)"
   ]
  },
  {
   "cell_type": "markdown",
   "metadata": {},
   "source": [
    "# 公共方法"
   ]
  },
  {
   "cell_type": "code",
   "execution_count": 6,
   "metadata": {},
   "outputs": [],
   "source": [
    "def genDate(train_data):\n",
    "    \"\"\"\n",
    "    将年月数据拼接起来，组成datetime类型\n",
    "    \"\"\"\n",
    "    # 拼接时间数据\n",
    "    train_data['Date'] = train_data['regYear'].apply(str) + '-' + train_data['regMonth'].apply(str)\n",
    "\n",
    "    # 删除旧的年月数据\n",
    "    del( train_data['regYear'] )\n",
    "    del( train_data['regMonth'] )\n",
    "\n",
    "\n",
    "    train_data['Date'] = pd.to_datetime(train_data['Date'])\n",
    "\n",
    "    train_data = train_data.set_index('Date')\n",
    "    return train_data"
   ]
  },
  {
   "cell_type": "code",
   "execution_count": 7,
   "metadata": {},
   "outputs": [],
   "source": [
    "def get_model_province_data(train_data):\n",
    "    \"\"\"\n",
    "    按照类型、省的层次构造数据。\n",
    "    \"\"\"\n",
    "    car_models = []\n",
    "\n",
    "    for model_num, model in train_data:\n",
    "        provinces = model.groupby('province')\n",
    "\n",
    "        model_province_data = []\n",
    "        for province_name, province_data in provinces:\n",
    "            model_province_data.append({'province_name' : province_name, 'province_data': province_data})\n",
    "\n",
    "        car_models.append({'model_num' :  model_num,  'model_province_data' : model_province_data })\n",
    "    \n",
    "    return car_models"
   ]
  },
  {
   "cell_type": "markdown",
   "metadata": {},
   "source": [
    "# 数据处理"
   ]
  },
  {
   "cell_type": "markdown",
   "metadata": {},
   "source": [
    "## 销售数据与搜索数据处理"
   ]
  },
  {
   "cell_type": "code",
   "execution_count": 8,
   "metadata": {},
   "outputs": [
    {
     "name": "stdout",
     "output_type": "stream",
     "text": [
      "(31680, 8)\n"
     ]
    },
    {
     "data": {
      "text/html": [
       "<div>\n",
       "<style scoped>\n",
       "    .dataframe tbody tr th:only-of-type {\n",
       "        vertical-align: middle;\n",
       "    }\n",
       "\n",
       "    .dataframe tbody tr th {\n",
       "        vertical-align: top;\n",
       "    }\n",
       "\n",
       "    .dataframe thead th {\n",
       "        text-align: right;\n",
       "    }\n",
       "</style>\n",
       "<table border=\"1\" class=\"dataframe\">\n",
       "  <thead>\n",
       "    <tr style=\"text-align: right;\">\n",
       "      <th></th>\n",
       "      <th>province</th>\n",
       "      <th>adcode</th>\n",
       "      <th>model</th>\n",
       "      <th>bodyType</th>\n",
       "      <th>regYear</th>\n",
       "      <th>regMonth</th>\n",
       "      <th>salesVolume</th>\n",
       "      <th>popularity</th>\n",
       "    </tr>\n",
       "  </thead>\n",
       "  <tbody>\n",
       "    <tr>\n",
       "      <th>0</th>\n",
       "      <td>上海</td>\n",
       "      <td>310000</td>\n",
       "      <td>3c974920a76ac9c1</td>\n",
       "      <td>SUV</td>\n",
       "      <td>2016</td>\n",
       "      <td>1</td>\n",
       "      <td>292</td>\n",
       "      <td>1479</td>\n",
       "    </tr>\n",
       "    <tr>\n",
       "      <th>1</th>\n",
       "      <td>云南</td>\n",
       "      <td>530000</td>\n",
       "      <td>3c974920a76ac9c1</td>\n",
       "      <td>SUV</td>\n",
       "      <td>2016</td>\n",
       "      <td>1</td>\n",
       "      <td>466</td>\n",
       "      <td>1594</td>\n",
       "    </tr>\n",
       "    <tr>\n",
       "      <th>2</th>\n",
       "      <td>内蒙古</td>\n",
       "      <td>150000</td>\n",
       "      <td>3c974920a76ac9c1</td>\n",
       "      <td>SUV</td>\n",
       "      <td>2016</td>\n",
       "      <td>1</td>\n",
       "      <td>257</td>\n",
       "      <td>1479</td>\n",
       "    </tr>\n",
       "    <tr>\n",
       "      <th>3</th>\n",
       "      <td>北京</td>\n",
       "      <td>110000</td>\n",
       "      <td>3c974920a76ac9c1</td>\n",
       "      <td>SUV</td>\n",
       "      <td>2016</td>\n",
       "      <td>1</td>\n",
       "      <td>408</td>\n",
       "      <td>2370</td>\n",
       "    </tr>\n",
       "    <tr>\n",
       "      <th>4</th>\n",
       "      <td>四川</td>\n",
       "      <td>510000</td>\n",
       "      <td>3c974920a76ac9c1</td>\n",
       "      <td>SUV</td>\n",
       "      <td>2016</td>\n",
       "      <td>1</td>\n",
       "      <td>610</td>\n",
       "      <td>3562</td>\n",
       "    </tr>\n",
       "  </tbody>\n",
       "</table>\n",
       "</div>"
      ],
      "text/plain": [
       "  province  adcode             model bodyType  regYear  regMonth  salesVolume  \\\n",
       "0       上海  310000  3c974920a76ac9c1      SUV     2016         1          292   \n",
       "1       云南  530000  3c974920a76ac9c1      SUV     2016         1          466   \n",
       "2      内蒙古  150000  3c974920a76ac9c1      SUV     2016         1          257   \n",
       "3       北京  110000  3c974920a76ac9c1      SUV     2016         1          408   \n",
       "4       四川  510000  3c974920a76ac9c1      SUV     2016         1          610   \n",
       "\n",
       "   popularity  \n",
       "0        1479  \n",
       "1        1594  \n",
       "2        1479  \n",
       "3        2370  \n",
       "4        3562  "
      ]
     },
     "execution_count": 8,
     "metadata": {},
     "output_type": "execute_result"
    }
   ],
   "source": [
    "# 拼接销售数据与检索数据\n",
    "sales_search_data = pd.merge(train_sales_data, train_search_data)\n",
    "print(sales_search_data.shape)\n",
    "sales_search_data.head()"
   ]
  },
  {
   "cell_type": "code",
   "execution_count": 9,
   "metadata": {},
   "outputs": [
    {
     "data": {
      "text/plain": [
       "(31680, 8)"
      ]
     },
     "execution_count": 9,
     "metadata": {},
     "output_type": "execute_result"
    }
   ],
   "source": [
    "sales_search_data.shape"
   ]
  },
  {
   "cell_type": "code",
   "execution_count": 10,
   "metadata": {},
   "outputs": [
    {
     "data": {
      "text/html": [
       "<div>\n",
       "<style scoped>\n",
       "    .dataframe tbody tr th:only-of-type {\n",
       "        vertical-align: middle;\n",
       "    }\n",
       "\n",
       "    .dataframe tbody tr th {\n",
       "        vertical-align: top;\n",
       "    }\n",
       "\n",
       "    .dataframe thead th {\n",
       "        text-align: right;\n",
       "    }\n",
       "</style>\n",
       "<table border=\"1\" class=\"dataframe\">\n",
       "  <thead>\n",
       "    <tr style=\"text-align: right;\">\n",
       "      <th></th>\n",
       "      <th>model</th>\n",
       "      <th>regYear</th>\n",
       "      <th>regMonth</th>\n",
       "      <th>carCommentVolum</th>\n",
       "      <th>newsReplyVolum</th>\n",
       "    </tr>\n",
       "  </thead>\n",
       "  <tbody>\n",
       "    <tr>\n",
       "      <th>0</th>\n",
       "      <td>02aab221aabc03b9</td>\n",
       "      <td>2016</td>\n",
       "      <td>1</td>\n",
       "      <td>132</td>\n",
       "      <td>399</td>\n",
       "    </tr>\n",
       "    <tr>\n",
       "      <th>1</th>\n",
       "      <td>02aab221aabc03b9</td>\n",
       "      <td>2016</td>\n",
       "      <td>2</td>\n",
       "      <td>160</td>\n",
       "      <td>3043</td>\n",
       "    </tr>\n",
       "    <tr>\n",
       "      <th>2</th>\n",
       "      <td>02aab221aabc03b9</td>\n",
       "      <td>2016</td>\n",
       "      <td>3</td>\n",
       "      <td>357</td>\n",
       "      <td>798</td>\n",
       "    </tr>\n",
       "    <tr>\n",
       "      <th>3</th>\n",
       "      <td>02aab221aabc03b9</td>\n",
       "      <td>2016</td>\n",
       "      <td>4</td>\n",
       "      <td>243</td>\n",
       "      <td>3821</td>\n",
       "    </tr>\n",
       "    <tr>\n",
       "      <th>4</th>\n",
       "      <td>02aab221aabc03b9</td>\n",
       "      <td>2016</td>\n",
       "      <td>5</td>\n",
       "      <td>283</td>\n",
       "      <td>933</td>\n",
       "    </tr>\n",
       "  </tbody>\n",
       "</table>\n",
       "</div>"
      ],
      "text/plain": [
       "              model  regYear  regMonth  carCommentVolum  newsReplyVolum\n",
       "0  02aab221aabc03b9     2016         1              132             399\n",
       "1  02aab221aabc03b9     2016         2              160            3043\n",
       "2  02aab221aabc03b9     2016         3              357             798\n",
       "3  02aab221aabc03b9     2016         4              243            3821\n",
       "4  02aab221aabc03b9     2016         5              283             933"
      ]
     },
     "execution_count": 10,
     "metadata": {},
     "output_type": "execute_result"
    }
   ],
   "source": [
    "train_user_reply_data.head()"
   ]
  },
  {
   "cell_type": "markdown",
   "metadata": {},
   "source": [
    "## 加入评论数据"
   ]
  },
  {
   "cell_type": "code",
   "execution_count": 11,
   "metadata": {},
   "outputs": [],
   "source": [
    "total_data = pd.merge(sales_search_data, train_user_reply_data)"
   ]
  },
  {
   "cell_type": "code",
   "execution_count": 12,
   "metadata": {},
   "outputs": [
    {
     "name": "stdout",
     "output_type": "stream",
     "text": [
      "(31680, 10)\n"
     ]
    },
    {
     "data": {
      "text/html": [
       "<div>\n",
       "<style scoped>\n",
       "    .dataframe tbody tr th:only-of-type {\n",
       "        vertical-align: middle;\n",
       "    }\n",
       "\n",
       "    .dataframe tbody tr th {\n",
       "        vertical-align: top;\n",
       "    }\n",
       "\n",
       "    .dataframe thead th {\n",
       "        text-align: right;\n",
       "    }\n",
       "</style>\n",
       "<table border=\"1\" class=\"dataframe\">\n",
       "  <thead>\n",
       "    <tr style=\"text-align: right;\">\n",
       "      <th></th>\n",
       "      <th>province</th>\n",
       "      <th>adcode</th>\n",
       "      <th>model</th>\n",
       "      <th>bodyType</th>\n",
       "      <th>regYear</th>\n",
       "      <th>regMonth</th>\n",
       "      <th>salesVolume</th>\n",
       "      <th>popularity</th>\n",
       "      <th>carCommentVolum</th>\n",
       "      <th>newsReplyVolum</th>\n",
       "    </tr>\n",
       "  </thead>\n",
       "  <tbody>\n",
       "    <tr>\n",
       "      <th>0</th>\n",
       "      <td>上海</td>\n",
       "      <td>310000</td>\n",
       "      <td>3c974920a76ac9c1</td>\n",
       "      <td>SUV</td>\n",
       "      <td>2016</td>\n",
       "      <td>1</td>\n",
       "      <td>292</td>\n",
       "      <td>1479</td>\n",
       "      <td>11</td>\n",
       "      <td>106</td>\n",
       "    </tr>\n",
       "    <tr>\n",
       "      <th>1</th>\n",
       "      <td>云南</td>\n",
       "      <td>530000</td>\n",
       "      <td>3c974920a76ac9c1</td>\n",
       "      <td>SUV</td>\n",
       "      <td>2016</td>\n",
       "      <td>1</td>\n",
       "      <td>466</td>\n",
       "      <td>1594</td>\n",
       "      <td>11</td>\n",
       "      <td>106</td>\n",
       "    </tr>\n",
       "    <tr>\n",
       "      <th>2</th>\n",
       "      <td>内蒙古</td>\n",
       "      <td>150000</td>\n",
       "      <td>3c974920a76ac9c1</td>\n",
       "      <td>SUV</td>\n",
       "      <td>2016</td>\n",
       "      <td>1</td>\n",
       "      <td>257</td>\n",
       "      <td>1479</td>\n",
       "      <td>11</td>\n",
       "      <td>106</td>\n",
       "    </tr>\n",
       "    <tr>\n",
       "      <th>3</th>\n",
       "      <td>北京</td>\n",
       "      <td>110000</td>\n",
       "      <td>3c974920a76ac9c1</td>\n",
       "      <td>SUV</td>\n",
       "      <td>2016</td>\n",
       "      <td>1</td>\n",
       "      <td>408</td>\n",
       "      <td>2370</td>\n",
       "      <td>11</td>\n",
       "      <td>106</td>\n",
       "    </tr>\n",
       "    <tr>\n",
       "      <th>4</th>\n",
       "      <td>四川</td>\n",
       "      <td>510000</td>\n",
       "      <td>3c974920a76ac9c1</td>\n",
       "      <td>SUV</td>\n",
       "      <td>2016</td>\n",
       "      <td>1</td>\n",
       "      <td>610</td>\n",
       "      <td>3562</td>\n",
       "      <td>11</td>\n",
       "      <td>106</td>\n",
       "    </tr>\n",
       "  </tbody>\n",
       "</table>\n",
       "</div>"
      ],
      "text/plain": [
       "  province  adcode             model bodyType  regYear  regMonth  salesVolume  \\\n",
       "0       上海  310000  3c974920a76ac9c1      SUV     2016         1          292   \n",
       "1       云南  530000  3c974920a76ac9c1      SUV     2016         1          466   \n",
       "2      内蒙古  150000  3c974920a76ac9c1      SUV     2016         1          257   \n",
       "3       北京  110000  3c974920a76ac9c1      SUV     2016         1          408   \n",
       "4       四川  510000  3c974920a76ac9c1      SUV     2016         1          610   \n",
       "\n",
       "   popularity  carCommentVolum  newsReplyVolum  \n",
       "0        1479               11             106  \n",
       "1        1594               11             106  \n",
       "2        1479               11             106  \n",
       "3        2370               11             106  \n",
       "4        3562               11             106  "
      ]
     },
     "execution_count": 12,
     "metadata": {},
     "output_type": "execute_result"
    }
   ],
   "source": [
    "print(total_data.shape)\n",
    "total_data.head()"
   ]
  },
  {
   "cell_type": "code",
   "execution_count": 13,
   "metadata": {},
   "outputs": [
    {
     "data": {
      "text/html": [
       "<div>\n",
       "<style scoped>\n",
       "    .dataframe tbody tr th:only-of-type {\n",
       "        vertical-align: middle;\n",
       "    }\n",
       "\n",
       "    .dataframe tbody tr th {\n",
       "        vertical-align: top;\n",
       "    }\n",
       "\n",
       "    .dataframe thead th {\n",
       "        text-align: right;\n",
       "    }\n",
       "</style>\n",
       "<table border=\"1\" class=\"dataframe\">\n",
       "  <thead>\n",
       "    <tr style=\"text-align: right;\">\n",
       "      <th></th>\n",
       "      <th>province</th>\n",
       "      <th>adcode</th>\n",
       "      <th>model</th>\n",
       "      <th>bodyType</th>\n",
       "      <th>y</th>\n",
       "      <th>popularity</th>\n",
       "      <th>carCommentVolum</th>\n",
       "      <th>newsReplyVolum</th>\n",
       "      <th>ds</th>\n",
       "    </tr>\n",
       "  </thead>\n",
       "  <tbody>\n",
       "    <tr>\n",
       "      <th>0</th>\n",
       "      <td>上海</td>\n",
       "      <td>310000</td>\n",
       "      <td>3c974920a76ac9c1</td>\n",
       "      <td>SUV</td>\n",
       "      <td>292</td>\n",
       "      <td>1479</td>\n",
       "      <td>11</td>\n",
       "      <td>106</td>\n",
       "      <td>2016-1</td>\n",
       "    </tr>\n",
       "    <tr>\n",
       "      <th>1</th>\n",
       "      <td>云南</td>\n",
       "      <td>530000</td>\n",
       "      <td>3c974920a76ac9c1</td>\n",
       "      <td>SUV</td>\n",
       "      <td>466</td>\n",
       "      <td>1594</td>\n",
       "      <td>11</td>\n",
       "      <td>106</td>\n",
       "      <td>2016-1</td>\n",
       "    </tr>\n",
       "    <tr>\n",
       "      <th>2</th>\n",
       "      <td>内蒙古</td>\n",
       "      <td>150000</td>\n",
       "      <td>3c974920a76ac9c1</td>\n",
       "      <td>SUV</td>\n",
       "      <td>257</td>\n",
       "      <td>1479</td>\n",
       "      <td>11</td>\n",
       "      <td>106</td>\n",
       "      <td>2016-1</td>\n",
       "    </tr>\n",
       "    <tr>\n",
       "      <th>3</th>\n",
       "      <td>北京</td>\n",
       "      <td>110000</td>\n",
       "      <td>3c974920a76ac9c1</td>\n",
       "      <td>SUV</td>\n",
       "      <td>408</td>\n",
       "      <td>2370</td>\n",
       "      <td>11</td>\n",
       "      <td>106</td>\n",
       "      <td>2016-1</td>\n",
       "    </tr>\n",
       "    <tr>\n",
       "      <th>4</th>\n",
       "      <td>四川</td>\n",
       "      <td>510000</td>\n",
       "      <td>3c974920a76ac9c1</td>\n",
       "      <td>SUV</td>\n",
       "      <td>610</td>\n",
       "      <td>3562</td>\n",
       "      <td>11</td>\n",
       "      <td>106</td>\n",
       "      <td>2016-1</td>\n",
       "    </tr>\n",
       "  </tbody>\n",
       "</table>\n",
       "</div>"
      ],
      "text/plain": [
       "  province  adcode             model bodyType    y  popularity  \\\n",
       "0       上海  310000  3c974920a76ac9c1      SUV  292        1479   \n",
       "1       云南  530000  3c974920a76ac9c1      SUV  466        1594   \n",
       "2      内蒙古  150000  3c974920a76ac9c1      SUV  257        1479   \n",
       "3       北京  110000  3c974920a76ac9c1      SUV  408        2370   \n",
       "4       四川  510000  3c974920a76ac9c1      SUV  610        3562   \n",
       "\n",
       "   carCommentVolum  newsReplyVolum      ds  \n",
       "0               11             106  2016-1  \n",
       "1               11             106  2016-1  \n",
       "2               11             106  2016-1  \n",
       "3               11             106  2016-1  \n",
       "4               11             106  2016-1  "
      ]
     },
     "execution_count": 13,
     "metadata": {},
     "output_type": "execute_result"
    }
   ],
   "source": [
    "#  构建日期数据\n",
    "\n",
    "# 1.将日期数据设置为index\n",
    "# total_data = genDate(total_data)\n",
    "\n",
    "# 2.不设置为index但是构造新的一个ds列\n",
    "total_data['ds'] = total_data['regYear'].apply(str) + '-' + total_data['regMonth'].apply(str)\n",
    "del( total_data['regYear'] )\n",
    "del( total_data['regMonth'] )\n",
    "\n",
    "total_data.rename(columns = {'salesVolume' : 'y'}, inplace = True)\n",
    "\n",
    "total_data.head()"
   ]
  },
  {
   "cell_type": "code",
   "execution_count": 14,
   "metadata": {},
   "outputs": [
    {
     "data": {
      "text/plain": [
       "60"
      ]
     },
     "execution_count": 14,
     "metadata": {},
     "output_type": "execute_result"
    }
   ],
   "source": [
    "# 按照种类、省市划分\n",
    "total_data = total_data.groupby('model')\n",
    "len(total_data)"
   ]
  },
  {
   "cell_type": "code",
   "execution_count": 15,
   "metadata": {},
   "outputs": [],
   "source": [
    "total_data = get_model_province_data(total_data)"
   ]
  },
  {
   "cell_type": "markdown",
   "metadata": {},
   "source": [
    "## 测试数据\n"
   ]
  },
  {
   "cell_type": "code",
   "execution_count": 17,
   "metadata": {},
   "outputs": [
    {
     "name": "stdout",
     "output_type": "stream",
     "text": [
      "(5280, 7)\n"
     ]
    },
    {
     "data": {
      "text/html": [
       "<div>\n",
       "<style scoped>\n",
       "    .dataframe tbody tr th:only-of-type {\n",
       "        vertical-align: middle;\n",
       "    }\n",
       "\n",
       "    .dataframe tbody tr th {\n",
       "        vertical-align: top;\n",
       "    }\n",
       "\n",
       "    .dataframe thead th {\n",
       "        text-align: right;\n",
       "    }\n",
       "</style>\n",
       "<table border=\"1\" class=\"dataframe\">\n",
       "  <thead>\n",
       "    <tr style=\"text-align: right;\">\n",
       "      <th></th>\n",
       "      <th>id</th>\n",
       "      <th>province</th>\n",
       "      <th>adcode</th>\n",
       "      <th>model</th>\n",
       "      <th>regYear</th>\n",
       "      <th>regMonth</th>\n",
       "      <th>forecastVolum</th>\n",
       "    </tr>\n",
       "  </thead>\n",
       "  <tbody>\n",
       "    <tr>\n",
       "      <th>0</th>\n",
       "      <td>1</td>\n",
       "      <td>上海</td>\n",
       "      <td>310000</td>\n",
       "      <td>3c974920a76ac9c1</td>\n",
       "      <td>2018</td>\n",
       "      <td>1</td>\n",
       "      <td>NaN</td>\n",
       "    </tr>\n",
       "    <tr>\n",
       "      <th>1</th>\n",
       "      <td>2</td>\n",
       "      <td>云南</td>\n",
       "      <td>530000</td>\n",
       "      <td>3c974920a76ac9c1</td>\n",
       "      <td>2018</td>\n",
       "      <td>1</td>\n",
       "      <td>NaN</td>\n",
       "    </tr>\n",
       "    <tr>\n",
       "      <th>2</th>\n",
       "      <td>3</td>\n",
       "      <td>内蒙古</td>\n",
       "      <td>150000</td>\n",
       "      <td>3c974920a76ac9c1</td>\n",
       "      <td>2018</td>\n",
       "      <td>1</td>\n",
       "      <td>NaN</td>\n",
       "    </tr>\n",
       "    <tr>\n",
       "      <th>3</th>\n",
       "      <td>4</td>\n",
       "      <td>北京</td>\n",
       "      <td>110000</td>\n",
       "      <td>3c974920a76ac9c1</td>\n",
       "      <td>2018</td>\n",
       "      <td>1</td>\n",
       "      <td>NaN</td>\n",
       "    </tr>\n",
       "    <tr>\n",
       "      <th>4</th>\n",
       "      <td>5</td>\n",
       "      <td>四川</td>\n",
       "      <td>510000</td>\n",
       "      <td>3c974920a76ac9c1</td>\n",
       "      <td>2018</td>\n",
       "      <td>1</td>\n",
       "      <td>NaN</td>\n",
       "    </tr>\n",
       "  </tbody>\n",
       "</table>\n",
       "</div>"
      ],
      "text/plain": [
       "   id province  adcode             model  regYear  regMonth  forecastVolum\n",
       "0   1       上海  310000  3c974920a76ac9c1     2018         1            NaN\n",
       "1   2       云南  530000  3c974920a76ac9c1     2018         1            NaN\n",
       "2   3      内蒙古  150000  3c974920a76ac9c1     2018         1            NaN\n",
       "3   4       北京  110000  3c974920a76ac9c1     2018         1            NaN\n",
       "4   5       四川  510000  3c974920a76ac9c1     2018         1            NaN"
      ]
     },
     "execution_count": 17,
     "metadata": {},
     "output_type": "execute_result"
    }
   ],
   "source": [
    "evaluation_data = pd.read_csv('evaluation_public.csv')\n",
    "print(evaluation_data.shape)\n",
    "evaluation_data.head()"
   ]
  },
  {
   "cell_type": "code",
   "execution_count": 20,
   "metadata": {},
   "outputs": [
    {
     "name": "stdout",
     "output_type": "stream",
     "text": [
      "<class 'pandas.core.frame.DataFrame'>\n",
      "RangeIndex: 5280 entries, 0 to 5279\n",
      "Data columns (total 7 columns):\n",
      "id               5280 non-null int64\n",
      "province         5280 non-null object\n",
      "adcode           5280 non-null int64\n",
      "model            5280 non-null object\n",
      "regYear          5280 non-null int64\n",
      "regMonth         5280 non-null int64\n",
      "forecastVolum    0 non-null float64\n",
      "dtypes: float64(1), int64(4), object(2)\n",
      "memory usage: 288.8+ KB\n"
     ]
    }
   ],
   "source": [
    "evaluation_data.info()"
   ]
  },
  {
   "cell_type": "code",
   "execution_count": 47,
   "metadata": {},
   "outputs": [],
   "source": [
    "import copy\n",
    "evaluation_data_copy = copy.copy(evaluation_data)"
   ]
  },
  {
   "cell_type": "code",
   "execution_count": 48,
   "metadata": {},
   "outputs": [
    {
     "data": {
      "text/plain": [
       "139663066136984"
      ]
     },
     "execution_count": 48,
     "metadata": {},
     "output_type": "execute_result"
    }
   ],
   "source": [
    "id(evaluation_data)"
   ]
  },
  {
   "cell_type": "code",
   "execution_count": 49,
   "metadata": {},
   "outputs": [
    {
     "data": {
      "text/plain": [
       "139662985615792"
      ]
     },
     "execution_count": 49,
     "metadata": {},
     "output_type": "execute_result"
    }
   ],
   "source": [
    "id(evaluation_data_copy)"
   ]
  },
  {
   "cell_type": "markdown",
   "metadata": {},
   "source": [
    "# 输出测试"
   ]
  },
  {
   "cell_type": "code",
   "execution_count": 53,
   "metadata": {},
   "outputs": [
    {
     "data": {
      "text/plain": [
       "dict"
      ]
     },
     "execution_count": 53,
     "metadata": {},
     "output_type": "execute_result"
    }
   ],
   "source": [
    "type(total_data[0])"
   ]
  },
  {
   "cell_type": "code",
   "execution_count": null,
   "metadata": {},
   "outputs": [],
   "source": [
    "from fbprophet import Prophet\n",
    "\n",
    "for model in total_data:\n",
    "    model_num = model['model_num']\n",
    "    model_province_data = model['model_province_data']\n",
    "    print(\"型号：\" + model_num )\n",
    "    \n",
    "    for province in model_province_data:\n",
    "        province_name  = province['province_name']\n",
    "        one_province_data =  province['province_data']\n",
    "        \n",
    "        # 预测\n",
    "        model = Prophet( growth='linear',\n",
    "                        seasonality_prior_scale=100,\n",
    "                        holidays_prior_scale=100,\n",
    "                        uncertainty_samples=30)\n",
    "        model.fit(one_province_data)\n",
    "        \n",
    "        future = model.make_future_dataframe(periods=4, freq='M')\n",
    "        forecast = model.predict(future)\n",
    "        predit_result = forecast[-4:]['yhat'].values\n",
    "        \n",
    "        # 填充数据\n",
    "        \n",
    "        for i in range(4):\n",
    "            evaluation_data.loc[(evaluation_data.province == province_name) \n",
    "                                 & (evaluation_data.model == model_num ) \n",
    "                                 & (evaluation_data.regMonth ==  i + 1),  'forecastVolum'] = predit_result[i]\n",
    "        \n",
    "       \n",
    "        print(\"\\t省份：\" + province_name)\n",
    "        \n",
    "    print(\"=\"*60)\n",
    "    \n",
    "    "
   ]
  },
  {
   "cell_type": "code",
   "execution_count": 93,
   "metadata": {},
   "outputs": [
    {
     "data": {
      "text/html": [
       "<div>\n",
       "<style scoped>\n",
       "    .dataframe tbody tr th:only-of-type {\n",
       "        vertical-align: middle;\n",
       "    }\n",
       "\n",
       "    .dataframe tbody tr th {\n",
       "        vertical-align: top;\n",
       "    }\n",
       "\n",
       "    .dataframe thead th {\n",
       "        text-align: right;\n",
       "    }\n",
       "</style>\n",
       "<table border=\"1\" class=\"dataframe\">\n",
       "  <thead>\n",
       "    <tr style=\"text-align: right;\">\n",
       "      <th></th>\n",
       "      <th>id</th>\n",
       "      <th>province</th>\n",
       "      <th>adcode</th>\n",
       "      <th>model</th>\n",
       "      <th>regYear</th>\n",
       "      <th>regMonth</th>\n",
       "      <th>forecastVolum</th>\n",
       "    </tr>\n",
       "  </thead>\n",
       "  <tbody>\n",
       "    <tr>\n",
       "      <th>0</th>\n",
       "      <td>1</td>\n",
       "      <td>上海</td>\n",
       "      <td>310000</td>\n",
       "      <td>3c974920a76ac9c1</td>\n",
       "      <td>2018</td>\n",
       "      <td>1</td>\n",
       "      <td>292.014818</td>\n",
       "    </tr>\n",
       "    <tr>\n",
       "      <th>1</th>\n",
       "      <td>2</td>\n",
       "      <td>云南</td>\n",
       "      <td>530000</td>\n",
       "      <td>3c974920a76ac9c1</td>\n",
       "      <td>2018</td>\n",
       "      <td>1</td>\n",
       "      <td>316.630647</td>\n",
       "    </tr>\n",
       "    <tr>\n",
       "      <th>2</th>\n",
       "      <td>3</td>\n",
       "      <td>内蒙古</td>\n",
       "      <td>150000</td>\n",
       "      <td>3c974920a76ac9c1</td>\n",
       "      <td>2018</td>\n",
       "      <td>1</td>\n",
       "      <td>167.068696</td>\n",
       "    </tr>\n",
       "    <tr>\n",
       "      <th>3</th>\n",
       "      <td>4</td>\n",
       "      <td>北京</td>\n",
       "      <td>110000</td>\n",
       "      <td>3c974920a76ac9c1</td>\n",
       "      <td>2018</td>\n",
       "      <td>1</td>\n",
       "      <td>326.016281</td>\n",
       "    </tr>\n",
       "    <tr>\n",
       "      <th>4</th>\n",
       "      <td>5</td>\n",
       "      <td>四川</td>\n",
       "      <td>510000</td>\n",
       "      <td>3c974920a76ac9c1</td>\n",
       "      <td>2018</td>\n",
       "      <td>1</td>\n",
       "      <td>353.496258</td>\n",
       "    </tr>\n",
       "  </tbody>\n",
       "</table>\n",
       "</div>"
      ],
      "text/plain": [
       "   id province  adcode             model  regYear  regMonth  forecastVolum\n",
       "0   1       上海  310000  3c974920a76ac9c1     2018         1     292.014818\n",
       "1   2       云南  530000  3c974920a76ac9c1     2018         1     316.630647\n",
       "2   3      内蒙古  150000  3c974920a76ac9c1     2018         1     167.068696\n",
       "3   4       北京  110000  3c974920a76ac9c1     2018         1     326.016281\n",
       "4   5       四川  510000  3c974920a76ac9c1     2018         1     353.496258"
      ]
     },
     "execution_count": 93,
     "metadata": {},
     "output_type": "execute_result"
    }
   ],
   "source": [
    "evaluation_data .head()"
   ]
  },
  {
   "cell_type": "code",
   "execution_count": 94,
   "metadata": {},
   "outputs": [],
   "source": [
    "result = evaluation_data.drop(['province', 'adcode', 'model', 'regYear', 'regMonth'],  axis=1)"
   ]
  },
  {
   "cell_type": "code",
   "execution_count": 95,
   "metadata": {},
   "outputs": [
    {
     "data": {
      "text/html": [
       "<div>\n",
       "<style scoped>\n",
       "    .dataframe tbody tr th:only-of-type {\n",
       "        vertical-align: middle;\n",
       "    }\n",
       "\n",
       "    .dataframe tbody tr th {\n",
       "        vertical-align: top;\n",
       "    }\n",
       "\n",
       "    .dataframe thead th {\n",
       "        text-align: right;\n",
       "    }\n",
       "</style>\n",
       "<table border=\"1\" class=\"dataframe\">\n",
       "  <thead>\n",
       "    <tr style=\"text-align: right;\">\n",
       "      <th></th>\n",
       "      <th>id</th>\n",
       "      <th>forecastVolum</th>\n",
       "    </tr>\n",
       "  </thead>\n",
       "  <tbody>\n",
       "    <tr>\n",
       "      <th>0</th>\n",
       "      <td>1</td>\n",
       "      <td>292.014818</td>\n",
       "    </tr>\n",
       "    <tr>\n",
       "      <th>1</th>\n",
       "      <td>2</td>\n",
       "      <td>316.630647</td>\n",
       "    </tr>\n",
       "    <tr>\n",
       "      <th>2</th>\n",
       "      <td>3</td>\n",
       "      <td>167.068696</td>\n",
       "    </tr>\n",
       "    <tr>\n",
       "      <th>3</th>\n",
       "      <td>4</td>\n",
       "      <td>326.016281</td>\n",
       "    </tr>\n",
       "    <tr>\n",
       "      <th>4</th>\n",
       "      <td>5</td>\n",
       "      <td>353.496258</td>\n",
       "    </tr>\n",
       "  </tbody>\n",
       "</table>\n",
       "</div>"
      ],
      "text/plain": [
       "   id  forecastVolum\n",
       "0   1     292.014818\n",
       "1   2     316.630647\n",
       "2   3     167.068696\n",
       "3   4     326.016281\n",
       "4   5     353.496258"
      ]
     },
     "execution_count": 95,
     "metadata": {},
     "output_type": "execute_result"
    }
   ],
   "source": [
    "result.head()"
   ]
  },
  {
   "cell_type": "code",
   "execution_count": 102,
   "metadata": {},
   "outputs": [],
   "source": [
    "below_0 = result[(result.forecastVolum <= 0)].index.tolist()\n",
    "\n",
    "import random\n",
    "for e in below_0:\n",
    "    result.loc[(result.index == e), 'forecastVolum'] = random.randint(2, len(below_0))"
   ]
  },
  {
   "cell_type": "code",
   "execution_count": 103,
   "metadata": {},
   "outputs": [],
   "source": [
    "result['forecastVolum'] = result['forecastVolum'].astype(int)"
   ]
  },
  {
   "cell_type": "code",
   "execution_count": 104,
   "metadata": {},
   "outputs": [
    {
     "data": {
      "text/plain": [
       "[]"
      ]
     },
     "execution_count": 104,
     "metadata": {},
     "output_type": "execute_result"
    }
   ],
   "source": [
    "below_0 = result[(result.forecastVolum <= 0)].index.tolist()\n",
    "below_0"
   ]
  },
  {
   "cell_type": "code",
   "execution_count": 105,
   "metadata": {},
   "outputs": [],
   "source": [
    "result.to_csv(\"a.csv\",index=False,sep=',')"
   ]
  },
  {
   "cell_type": "code",
   "execution_count": 99,
   "metadata": {},
   "outputs": [
    {
     "data": {
      "text/plain": [
       "4"
      ]
     },
     "execution_count": 99,
     "metadata": {},
     "output_type": "execute_result"
    }
   ],
   "source": [
    "round(3.75)"
   ]
  },
  {
   "cell_type": "code",
   "execution_count": 22,
   "metadata": {},
   "outputs": [
    {
     "data": {
      "text/plain": [
       "'02aab221aabc03b9'"
      ]
     },
     "execution_count": 22,
     "metadata": {},
     "output_type": "execute_result"
    }
   ],
   "source": [
    "a['model_num']"
   ]
  },
  {
   "cell_type": "code",
   "execution_count": 23,
   "metadata": {},
   "outputs": [
    {
     "data": {
      "text/plain": [
       "22"
      ]
     },
     "execution_count": 23,
     "metadata": {},
     "output_type": "execute_result"
    }
   ],
   "source": [
    "b = a['model_province_data']\n",
    "len(b)"
   ]
  },
  {
   "cell_type": "code",
   "execution_count": 24,
   "metadata": {},
   "outputs": [
    {
     "data": {
      "text/plain": [
       "'上海'"
      ]
     },
     "execution_count": 24,
     "metadata": {},
     "output_type": "execute_result"
    }
   ],
   "source": [
    "b[0]['province_name']"
   ]
  },
  {
   "cell_type": "code",
   "execution_count": 25,
   "metadata": {},
   "outputs": [
    {
     "data": {
      "text/html": [
       "<div>\n",
       "<style scoped>\n",
       "    .dataframe tbody tr th:only-of-type {\n",
       "        vertical-align: middle;\n",
       "    }\n",
       "\n",
       "    .dataframe tbody tr th {\n",
       "        vertical-align: top;\n",
       "    }\n",
       "\n",
       "    .dataframe thead th {\n",
       "        text-align: right;\n",
       "    }\n",
       "</style>\n",
       "<table border=\"1\" class=\"dataframe\">\n",
       "  <thead>\n",
       "    <tr style=\"text-align: right;\">\n",
       "      <th></th>\n",
       "      <th>province</th>\n",
       "      <th>adcode</th>\n",
       "      <th>model</th>\n",
       "      <th>bodyType</th>\n",
       "      <th>y</th>\n",
       "      <th>popularity</th>\n",
       "      <th>carCommentVolum</th>\n",
       "      <th>newsReplyVolum</th>\n",
       "      <th>ds</th>\n",
       "    </tr>\n",
       "  </thead>\n",
       "  <tbody>\n",
       "    <tr>\n",
       "      <th>507</th>\n",
       "      <td>云南</td>\n",
       "      <td>530000</td>\n",
       "      <td>02aab221aabc03b9</td>\n",
       "      <td>Sedan</td>\n",
       "      <td>238</td>\n",
       "      <td>204</td>\n",
       "      <td>132</td>\n",
       "      <td>399</td>\n",
       "      <td>2016-1</td>\n",
       "    </tr>\n",
       "    <tr>\n",
       "      <th>1827</th>\n",
       "      <td>云南</td>\n",
       "      <td>530000</td>\n",
       "      <td>02aab221aabc03b9</td>\n",
       "      <td>Sedan</td>\n",
       "      <td>87</td>\n",
       "      <td>184</td>\n",
       "      <td>160</td>\n",
       "      <td>3043</td>\n",
       "      <td>2016-2</td>\n",
       "    </tr>\n",
       "    <tr>\n",
       "      <th>3147</th>\n",
       "      <td>云南</td>\n",
       "      <td>530000</td>\n",
       "      <td>02aab221aabc03b9</td>\n",
       "      <td>Sedan</td>\n",
       "      <td>174</td>\n",
       "      <td>195</td>\n",
       "      <td>357</td>\n",
       "      <td>798</td>\n",
       "      <td>2016-3</td>\n",
       "    </tr>\n",
       "    <tr>\n",
       "      <th>4467</th>\n",
       "      <td>云南</td>\n",
       "      <td>530000</td>\n",
       "      <td>02aab221aabc03b9</td>\n",
       "      <td>Sedan</td>\n",
       "      <td>151</td>\n",
       "      <td>192</td>\n",
       "      <td>243</td>\n",
       "      <td>3821</td>\n",
       "      <td>2016-4</td>\n",
       "    </tr>\n",
       "    <tr>\n",
       "      <th>5787</th>\n",
       "      <td>云南</td>\n",
       "      <td>530000</td>\n",
       "      <td>02aab221aabc03b9</td>\n",
       "      <td>Sedan</td>\n",
       "      <td>202</td>\n",
       "      <td>189</td>\n",
       "      <td>283</td>\n",
       "      <td>933</td>\n",
       "      <td>2016-5</td>\n",
       "    </tr>\n",
       "    <tr>\n",
       "      <th>7107</th>\n",
       "      <td>云南</td>\n",
       "      <td>530000</td>\n",
       "      <td>02aab221aabc03b9</td>\n",
       "      <td>Sedan</td>\n",
       "      <td>185</td>\n",
       "      <td>208</td>\n",
       "      <td>252</td>\n",
       "      <td>143</td>\n",
       "      <td>2016-6</td>\n",
       "    </tr>\n",
       "    <tr>\n",
       "      <th>8427</th>\n",
       "      <td>云南</td>\n",
       "      <td>530000</td>\n",
       "      <td>02aab221aabc03b9</td>\n",
       "      <td>Sedan</td>\n",
       "      <td>247</td>\n",
       "      <td>240</td>\n",
       "      <td>557</td>\n",
       "      <td>623</td>\n",
       "      <td>2016-7</td>\n",
       "    </tr>\n",
       "    <tr>\n",
       "      <th>9747</th>\n",
       "      <td>云南</td>\n",
       "      <td>530000</td>\n",
       "      <td>02aab221aabc03b9</td>\n",
       "      <td>Sedan</td>\n",
       "      <td>209</td>\n",
       "      <td>236</td>\n",
       "      <td>652</td>\n",
       "      <td>1809</td>\n",
       "      <td>2016-8</td>\n",
       "    </tr>\n",
       "    <tr>\n",
       "      <th>11067</th>\n",
       "      <td>云南</td>\n",
       "      <td>530000</td>\n",
       "      <td>02aab221aabc03b9</td>\n",
       "      <td>Sedan</td>\n",
       "      <td>201</td>\n",
       "      <td>279</td>\n",
       "      <td>506</td>\n",
       "      <td>1033</td>\n",
       "      <td>2016-9</td>\n",
       "    </tr>\n",
       "    <tr>\n",
       "      <th>12387</th>\n",
       "      <td>云南</td>\n",
       "      <td>530000</td>\n",
       "      <td>02aab221aabc03b9</td>\n",
       "      <td>Sedan</td>\n",
       "      <td>174</td>\n",
       "      <td>252</td>\n",
       "      <td>649</td>\n",
       "      <td>4699</td>\n",
       "      <td>2016-10</td>\n",
       "    </tr>\n",
       "    <tr>\n",
       "      <th>13707</th>\n",
       "      <td>云南</td>\n",
       "      <td>530000</td>\n",
       "      <td>02aab221aabc03b9</td>\n",
       "      <td>Sedan</td>\n",
       "      <td>160</td>\n",
       "      <td>290</td>\n",
       "      <td>436</td>\n",
       "      <td>1948</td>\n",
       "      <td>2016-11</td>\n",
       "    </tr>\n",
       "    <tr>\n",
       "      <th>15027</th>\n",
       "      <td>云南</td>\n",
       "      <td>530000</td>\n",
       "      <td>02aab221aabc03b9</td>\n",
       "      <td>Sedan</td>\n",
       "      <td>155</td>\n",
       "      <td>262</td>\n",
       "      <td>361</td>\n",
       "      <td>1283</td>\n",
       "      <td>2016-12</td>\n",
       "    </tr>\n",
       "    <tr>\n",
       "      <th>16347</th>\n",
       "      <td>云南</td>\n",
       "      <td>530000</td>\n",
       "      <td>02aab221aabc03b9</td>\n",
       "      <td>Sedan</td>\n",
       "      <td>229</td>\n",
       "      <td>226</td>\n",
       "      <td>375</td>\n",
       "      <td>774</td>\n",
       "      <td>2017-1</td>\n",
       "    </tr>\n",
       "    <tr>\n",
       "      <th>17667</th>\n",
       "      <td>云南</td>\n",
       "      <td>530000</td>\n",
       "      <td>02aab221aabc03b9</td>\n",
       "      <td>Sedan</td>\n",
       "      <td>130</td>\n",
       "      <td>309</td>\n",
       "      <td>483</td>\n",
       "      <td>2156</td>\n",
       "      <td>2017-2</td>\n",
       "    </tr>\n",
       "    <tr>\n",
       "      <th>18987</th>\n",
       "      <td>云南</td>\n",
       "      <td>530000</td>\n",
       "      <td>02aab221aabc03b9</td>\n",
       "      <td>Sedan</td>\n",
       "      <td>223</td>\n",
       "      <td>267</td>\n",
       "      <td>848</td>\n",
       "      <td>2144</td>\n",
       "      <td>2017-3</td>\n",
       "    </tr>\n",
       "    <tr>\n",
       "      <th>20307</th>\n",
       "      <td>云南</td>\n",
       "      <td>530000</td>\n",
       "      <td>02aab221aabc03b9</td>\n",
       "      <td>Sedan</td>\n",
       "      <td>186</td>\n",
       "      <td>223</td>\n",
       "      <td>380</td>\n",
       "      <td>310</td>\n",
       "      <td>2017-4</td>\n",
       "    </tr>\n",
       "    <tr>\n",
       "      <th>21627</th>\n",
       "      <td>云南</td>\n",
       "      <td>530000</td>\n",
       "      <td>02aab221aabc03b9</td>\n",
       "      <td>Sedan</td>\n",
       "      <td>188</td>\n",
       "      <td>327</td>\n",
       "      <td>554</td>\n",
       "      <td>2579</td>\n",
       "      <td>2017-5</td>\n",
       "    </tr>\n",
       "    <tr>\n",
       "      <th>22947</th>\n",
       "      <td>云南</td>\n",
       "      <td>530000</td>\n",
       "      <td>02aab221aabc03b9</td>\n",
       "      <td>Sedan</td>\n",
       "      <td>194</td>\n",
       "      <td>337</td>\n",
       "      <td>310</td>\n",
       "      <td>546</td>\n",
       "      <td>2017-6</td>\n",
       "    </tr>\n",
       "    <tr>\n",
       "      <th>24267</th>\n",
       "      <td>云南</td>\n",
       "      <td>530000</td>\n",
       "      <td>02aab221aabc03b9</td>\n",
       "      <td>Sedan</td>\n",
       "      <td>250</td>\n",
       "      <td>1216</td>\n",
       "      <td>626</td>\n",
       "      <td>132</td>\n",
       "      <td>2017-7</td>\n",
       "    </tr>\n",
       "    <tr>\n",
       "      <th>25587</th>\n",
       "      <td>云南</td>\n",
       "      <td>530000</td>\n",
       "      <td>02aab221aabc03b9</td>\n",
       "      <td>Sedan</td>\n",
       "      <td>267</td>\n",
       "      <td>2122</td>\n",
       "      <td>843</td>\n",
       "      <td>2982</td>\n",
       "      <td>2017-8</td>\n",
       "    </tr>\n",
       "    <tr>\n",
       "      <th>26907</th>\n",
       "      <td>云南</td>\n",
       "      <td>530000</td>\n",
       "      <td>02aab221aabc03b9</td>\n",
       "      <td>Sedan</td>\n",
       "      <td>174</td>\n",
       "      <td>1028</td>\n",
       "      <td>1058</td>\n",
       "      <td>378</td>\n",
       "      <td>2017-9</td>\n",
       "    </tr>\n",
       "    <tr>\n",
       "      <th>28227</th>\n",
       "      <td>云南</td>\n",
       "      <td>530000</td>\n",
       "      <td>02aab221aabc03b9</td>\n",
       "      <td>Sedan</td>\n",
       "      <td>213</td>\n",
       "      <td>186</td>\n",
       "      <td>784</td>\n",
       "      <td>1947</td>\n",
       "      <td>2017-10</td>\n",
       "    </tr>\n",
       "    <tr>\n",
       "      <th>29547</th>\n",
       "      <td>云南</td>\n",
       "      <td>530000</td>\n",
       "      <td>02aab221aabc03b9</td>\n",
       "      <td>Sedan</td>\n",
       "      <td>221</td>\n",
       "      <td>341</td>\n",
       "      <td>608</td>\n",
       "      <td>1113</td>\n",
       "      <td>2017-11</td>\n",
       "    </tr>\n",
       "    <tr>\n",
       "      <th>30867</th>\n",
       "      <td>云南</td>\n",
       "      <td>530000</td>\n",
       "      <td>02aab221aabc03b9</td>\n",
       "      <td>Sedan</td>\n",
       "      <td>250</td>\n",
       "      <td>193</td>\n",
       "      <td>403</td>\n",
       "      <td>2037</td>\n",
       "      <td>2017-12</td>\n",
       "    </tr>\n",
       "  </tbody>\n",
       "</table>\n",
       "</div>"
      ],
      "text/plain": [
       "      province  adcode             model bodyType    y  popularity  \\\n",
       "507         云南  530000  02aab221aabc03b9    Sedan  238         204   \n",
       "1827        云南  530000  02aab221aabc03b9    Sedan   87         184   \n",
       "3147        云南  530000  02aab221aabc03b9    Sedan  174         195   \n",
       "4467        云南  530000  02aab221aabc03b9    Sedan  151         192   \n",
       "5787        云南  530000  02aab221aabc03b9    Sedan  202         189   \n",
       "7107        云南  530000  02aab221aabc03b9    Sedan  185         208   \n",
       "8427        云南  530000  02aab221aabc03b9    Sedan  247         240   \n",
       "9747        云南  530000  02aab221aabc03b9    Sedan  209         236   \n",
       "11067       云南  530000  02aab221aabc03b9    Sedan  201         279   \n",
       "12387       云南  530000  02aab221aabc03b9    Sedan  174         252   \n",
       "13707       云南  530000  02aab221aabc03b9    Sedan  160         290   \n",
       "15027       云南  530000  02aab221aabc03b9    Sedan  155         262   \n",
       "16347       云南  530000  02aab221aabc03b9    Sedan  229         226   \n",
       "17667       云南  530000  02aab221aabc03b9    Sedan  130         309   \n",
       "18987       云南  530000  02aab221aabc03b9    Sedan  223         267   \n",
       "20307       云南  530000  02aab221aabc03b9    Sedan  186         223   \n",
       "21627       云南  530000  02aab221aabc03b9    Sedan  188         327   \n",
       "22947       云南  530000  02aab221aabc03b9    Sedan  194         337   \n",
       "24267       云南  530000  02aab221aabc03b9    Sedan  250        1216   \n",
       "25587       云南  530000  02aab221aabc03b9    Sedan  267        2122   \n",
       "26907       云南  530000  02aab221aabc03b9    Sedan  174        1028   \n",
       "28227       云南  530000  02aab221aabc03b9    Sedan  213         186   \n",
       "29547       云南  530000  02aab221aabc03b9    Sedan  221         341   \n",
       "30867       云南  530000  02aab221aabc03b9    Sedan  250         193   \n",
       "\n",
       "       carCommentVolum  newsReplyVolum       ds  \n",
       "507                132             399   2016-1  \n",
       "1827               160            3043   2016-2  \n",
       "3147               357             798   2016-3  \n",
       "4467               243            3821   2016-4  \n",
       "5787               283             933   2016-5  \n",
       "7107               252             143   2016-6  \n",
       "8427               557             623   2016-7  \n",
       "9747               652            1809   2016-8  \n",
       "11067              506            1033   2016-9  \n",
       "12387              649            4699  2016-10  \n",
       "13707              436            1948  2016-11  \n",
       "15027              361            1283  2016-12  \n",
       "16347              375             774   2017-1  \n",
       "17667              483            2156   2017-2  \n",
       "18987              848            2144   2017-3  \n",
       "20307              380             310   2017-4  \n",
       "21627              554            2579   2017-5  \n",
       "22947              310             546   2017-6  \n",
       "24267              626             132   2017-7  \n",
       "25587              843            2982   2017-8  \n",
       "26907             1058             378   2017-9  \n",
       "28227              784            1947  2017-10  \n",
       "29547              608            1113  2017-11  \n",
       "30867              403            2037  2017-12  "
      ]
     },
     "execution_count": 25,
     "metadata": {},
     "output_type": "execute_result"
    }
   ],
   "source": [
    "one_province_data = b[1]['province_data']\n",
    "one_province_data"
   ]
  },
  {
   "cell_type": "markdown",
   "metadata": {},
   "source": [
    "# 模型训练"
   ]
  },
  {
   "cell_type": "markdown",
   "metadata": {},
   "source": [
    "## 基于使用fbprophet"
   ]
  },
  {
   "cell_type": "code",
   "execution_count": 26,
   "metadata": {},
   "outputs": [
    {
     "name": "stderr",
     "output_type": "stream",
     "text": [
      "ERROR:fbprophet:Importing plotly failed. Interactive plots will not work.\n",
      "INFO:fbprophet:Disabling yearly seasonality. Run prophet with yearly_seasonality=True to override this.\n",
      "INFO:fbprophet:Disabling weekly seasonality. Run prophet with weekly_seasonality=True to override this.\n",
      "INFO:fbprophet:Disabling daily seasonality. Run prophet with daily_seasonality=True to override this.\n",
      "INFO:fbprophet:n_changepoints greater than number of observations.Using 18.\n"
     ]
    },
    {
     "data": {
      "text/plain": [
       "<fbprophet.forecaster.Prophet at 0x7f05d3540978>"
      ]
     },
     "execution_count": 26,
     "metadata": {},
     "output_type": "execute_result"
    }
   ],
   "source": [
    "from fbprophet import Prophet\n",
    "model = Prophet()\n",
    "model.fit(one_province_data)"
   ]
  },
  {
   "cell_type": "code",
   "execution_count": 27,
   "metadata": {},
   "outputs": [
    {
     "data": {
      "text/html": [
       "<div>\n",
       "<style scoped>\n",
       "    .dataframe tbody tr th:only-of-type {\n",
       "        vertical-align: middle;\n",
       "    }\n",
       "\n",
       "    .dataframe tbody tr th {\n",
       "        vertical-align: top;\n",
       "    }\n",
       "\n",
       "    .dataframe thead th {\n",
       "        text-align: right;\n",
       "    }\n",
       "</style>\n",
       "<table border=\"1\" class=\"dataframe\">\n",
       "  <thead>\n",
       "    <tr style=\"text-align: right;\">\n",
       "      <th></th>\n",
       "      <th>ds</th>\n",
       "    </tr>\n",
       "  </thead>\n",
       "  <tbody>\n",
       "    <tr>\n",
       "      <th>23</th>\n",
       "      <td>2017-12-01</td>\n",
       "    </tr>\n",
       "    <tr>\n",
       "      <th>24</th>\n",
       "      <td>2017-12-31</td>\n",
       "    </tr>\n",
       "    <tr>\n",
       "      <th>25</th>\n",
       "      <td>2018-01-31</td>\n",
       "    </tr>\n",
       "    <tr>\n",
       "      <th>26</th>\n",
       "      <td>2018-02-28</td>\n",
       "    </tr>\n",
       "    <tr>\n",
       "      <th>27</th>\n",
       "      <td>2018-03-31</td>\n",
       "    </tr>\n",
       "  </tbody>\n",
       "</table>\n",
       "</div>"
      ],
      "text/plain": [
       "           ds\n",
       "23 2017-12-01\n",
       "24 2017-12-31\n",
       "25 2018-01-31\n",
       "26 2018-02-28\n",
       "27 2018-03-31"
      ]
     },
     "execution_count": 27,
     "metadata": {},
     "output_type": "execute_result"
    }
   ],
   "source": [
    "future = model.make_future_dataframe(periods=4, freq='M')\n",
    "future.tail()"
   ]
  },
  {
   "cell_type": "code",
   "execution_count": 28,
   "metadata": {},
   "outputs": [
    {
     "data": {
      "text/html": [
       "<div>\n",
       "<style scoped>\n",
       "    .dataframe tbody tr th:only-of-type {\n",
       "        vertical-align: middle;\n",
       "    }\n",
       "\n",
       "    .dataframe tbody tr th {\n",
       "        vertical-align: top;\n",
       "    }\n",
       "\n",
       "    .dataframe thead th {\n",
       "        text-align: right;\n",
       "    }\n",
       "</style>\n",
       "<table border=\"1\" class=\"dataframe\">\n",
       "  <thead>\n",
       "    <tr style=\"text-align: right;\">\n",
       "      <th></th>\n",
       "      <th>ds</th>\n",
       "      <th>yhat</th>\n",
       "      <th>yhat_lower</th>\n",
       "      <th>yhat_upper</th>\n",
       "    </tr>\n",
       "  </thead>\n",
       "  <tbody>\n",
       "    <tr>\n",
       "      <th>23</th>\n",
       "      <td>2017-12-01</td>\n",
       "      <td>223.061447</td>\n",
       "      <td>174.018252</td>\n",
       "      <td>274.064143</td>\n",
       "    </tr>\n",
       "    <tr>\n",
       "      <th>24</th>\n",
       "      <td>2017-12-31</td>\n",
       "      <td>225.366747</td>\n",
       "      <td>178.857838</td>\n",
       "      <td>274.134348</td>\n",
       "    </tr>\n",
       "    <tr>\n",
       "      <th>25</th>\n",
       "      <td>2018-01-31</td>\n",
       "      <td>227.748891</td>\n",
       "      <td>176.683659</td>\n",
       "      <td>276.078297</td>\n",
       "    </tr>\n",
       "    <tr>\n",
       "      <th>26</th>\n",
       "      <td>2018-02-28</td>\n",
       "      <td>229.900505</td>\n",
       "      <td>180.592975</td>\n",
       "      <td>278.762427</td>\n",
       "    </tr>\n",
       "    <tr>\n",
       "      <th>27</th>\n",
       "      <td>2018-03-31</td>\n",
       "      <td>232.282648</td>\n",
       "      <td>182.584703</td>\n",
       "      <td>278.374301</td>\n",
       "    </tr>\n",
       "  </tbody>\n",
       "</table>\n",
       "</div>"
      ],
      "text/plain": [
       "           ds        yhat  yhat_lower  yhat_upper\n",
       "23 2017-12-01  223.061447  174.018252  274.064143\n",
       "24 2017-12-31  225.366747  178.857838  274.134348\n",
       "25 2018-01-31  227.748891  176.683659  276.078297\n",
       "26 2018-02-28  229.900505  180.592975  278.762427\n",
       "27 2018-03-31  232.282648  182.584703  278.374301"
      ]
     },
     "execution_count": 28,
     "metadata": {},
     "output_type": "execute_result"
    }
   ],
   "source": [
    "# 预测数据集\n",
    "forecast = model.predict(future)\n",
    "forecast[['ds', 'yhat', 'yhat_lower', 'yhat_upper']].tail()"
   ]
  },
  {
   "cell_type": "code",
   "execution_count": 32,
   "metadata": {},
   "outputs": [
    {
     "data": {
      "text/html": [
       "<div>\n",
       "<style scoped>\n",
       "    .dataframe tbody tr th:only-of-type {\n",
       "        vertical-align: middle;\n",
       "    }\n",
       "\n",
       "    .dataframe tbody tr th {\n",
       "        vertical-align: top;\n",
       "    }\n",
       "\n",
       "    .dataframe thead th {\n",
       "        text-align: right;\n",
       "    }\n",
       "</style>\n",
       "<table border=\"1\" class=\"dataframe\">\n",
       "  <thead>\n",
       "    <tr style=\"text-align: right;\">\n",
       "      <th></th>\n",
       "      <th>ds</th>\n",
       "      <th>yhat</th>\n",
       "      <th>yhat_lower</th>\n",
       "      <th>yhat_upper</th>\n",
       "    </tr>\n",
       "  </thead>\n",
       "  <tbody>\n",
       "    <tr>\n",
       "      <th>23</th>\n",
       "      <td>2017-12-01</td>\n",
       "      <td>223.061447</td>\n",
       "      <td>174.018252</td>\n",
       "      <td>274.064143</td>\n",
       "    </tr>\n",
       "    <tr>\n",
       "      <th>24</th>\n",
       "      <td>2017-12-31</td>\n",
       "      <td>225.366747</td>\n",
       "      <td>178.857838</td>\n",
       "      <td>274.134348</td>\n",
       "    </tr>\n",
       "    <tr>\n",
       "      <th>25</th>\n",
       "      <td>2018-01-31</td>\n",
       "      <td>227.748891</td>\n",
       "      <td>176.683659</td>\n",
       "      <td>276.078297</td>\n",
       "    </tr>\n",
       "    <tr>\n",
       "      <th>26</th>\n",
       "      <td>2018-02-28</td>\n",
       "      <td>229.900505</td>\n",
       "      <td>180.592975</td>\n",
       "      <td>278.762427</td>\n",
       "    </tr>\n",
       "    <tr>\n",
       "      <th>27</th>\n",
       "      <td>2018-03-31</td>\n",
       "      <td>232.282648</td>\n",
       "      <td>182.584703</td>\n",
       "      <td>278.374301</td>\n",
       "    </tr>\n",
       "  </tbody>\n",
       "</table>\n",
       "</div>"
      ],
      "text/plain": [
       "           ds        yhat  yhat_lower  yhat_upper\n",
       "23 2017-12-01  223.061447  174.018252  274.064143\n",
       "24 2017-12-31  225.366747  178.857838  274.134348\n",
       "25 2018-01-31  227.748891  176.683659  276.078297\n",
       "26 2018-02-28  229.900505  180.592975  278.762427\n",
       "27 2018-03-31  232.282648  182.584703  278.374301"
      ]
     },
     "execution_count": 32,
     "metadata": {},
     "output_type": "execute_result"
    }
   ],
   "source": [
    "forecast[['ds', 'yhat', 'yhat_lower', 'yhat_upper']].tail()"
   ]
  },
  {
   "cell_type": "code",
   "execution_count": 40,
   "metadata": {},
   "outputs": [
    {
     "data": {
      "text/plain": [
       "array([225.36674715, 227.74889091, 229.90050463, 232.28264839])"
      ]
     },
     "execution_count": 40,
     "metadata": {},
     "output_type": "execute_result"
    }
   ],
   "source": [
    "four = forecast[-4:]['yhat'].values\n",
    "four"
   ]
  },
  {
   "cell_type": "code",
   "execution_count": 42,
   "metadata": {},
   "outputs": [
    {
     "name": "stdout",
     "output_type": "stream",
     "text": [
      "225.3667471541612\n",
      "227.74889091212268\n",
      "229.90050462899111\n",
      "232.2826483869526\n"
     ]
    }
   ],
   "source": [
    "for i in range(4):\n",
    "    print(four[i])"
   ]
  },
  {
   "cell_type": "code",
   "execution_count": 30,
   "metadata": {},
   "outputs": [
    {
     "data": {
      "image/png": "[encoded data removed]",
      "text/plain": [
       "<Figure size 720x432 with 1 Axes>"
      ]
     },
     "metadata": {},
     "output_type": "display_data"
    }
   ],
   "source": [
    "# 展示预测结果\n",
    "model.plot(forecast);"
   ]
  },
  {
   "cell_type": "code",
   "execution_count": 94,
   "metadata": {},
   "outputs": [
    {
     "name": "stderr",
     "output_type": "stream",
     "text": [
      "INFO:fbprophet:Disabling yearly seasonality. Run prophet with yearly_seasonality=True to override this.\n",
      "INFO:fbprophet:Disabling weekly seasonality. Run prophet with weekly_seasonality=True to override this.\n",
      "INFO:fbprophet:Disabling daily seasonality. Run prophet with daily_seasonality=True to override this.\n",
      "INFO:fbprophet:n_changepoints greater than number of observations.Using 18.\n"
     ]
    },
    {
     "data": {
      "text/plain": [
       "<fbprophet.forecaster.Prophet at 0x7f85c9f9c6d8>"
      ]
     },
     "execution_count": 94,
     "metadata": {},
     "output_type": "execute_result"
    }
   ],
   "source": [
    "model = Prophet(seasonality_prior_scale=100,\n",
    "                holidays_prior_scale=100,\n",
    "                uncertainty_samples=30)\n",
    "model.fit(one_province_data)"
   ]
  },
  {
   "cell_type": "code",
   "execution_count": 95,
   "metadata": {},
   "outputs": [
    {
     "data": {
      "text/html": [
       "<div>\n",
       "<style scoped>\n",
       "    .dataframe tbody tr th:only-of-type {\n",
       "        vertical-align: middle;\n",
       "    }\n",
       "\n",
       "    .dataframe tbody tr th {\n",
       "        vertical-align: top;\n",
       "    }\n",
       "\n",
       "    .dataframe thead th {\n",
       "        text-align: right;\n",
       "    }\n",
       "</style>\n",
       "<table border=\"1\" class=\"dataframe\">\n",
       "  <thead>\n",
       "    <tr style=\"text-align: right;\">\n",
       "      <th></th>\n",
       "      <th>ds</th>\n",
       "      <th>yhat</th>\n",
       "      <th>yhat_lower</th>\n",
       "      <th>yhat_upper</th>\n",
       "    </tr>\n",
       "  </thead>\n",
       "  <tbody>\n",
       "    <tr>\n",
       "      <th>23</th>\n",
       "      <td>2017-12-01</td>\n",
       "      <td>223.061447</td>\n",
       "      <td>194.219444</td>\n",
       "      <td>270.650003</td>\n",
       "    </tr>\n",
       "    <tr>\n",
       "      <th>24</th>\n",
       "      <td>2017-12-31</td>\n",
       "      <td>225.366747</td>\n",
       "      <td>174.512447</td>\n",
       "      <td>269.961567</td>\n",
       "    </tr>\n",
       "    <tr>\n",
       "      <th>25</th>\n",
       "      <td>2018-01-31</td>\n",
       "      <td>227.748891</td>\n",
       "      <td>184.511097</td>\n",
       "      <td>289.933071</td>\n",
       "    </tr>\n",
       "    <tr>\n",
       "      <th>26</th>\n",
       "      <td>2018-02-28</td>\n",
       "      <td>229.900505</td>\n",
       "      <td>186.058960</td>\n",
       "      <td>269.365786</td>\n",
       "    </tr>\n",
       "    <tr>\n",
       "      <th>27</th>\n",
       "      <td>2018-03-31</td>\n",
       "      <td>232.282648</td>\n",
       "      <td>170.742944</td>\n",
       "      <td>268.123355</td>\n",
       "    </tr>\n",
       "  </tbody>\n",
       "</table>\n",
       "</div>"
      ],
      "text/plain": [
       "           ds        yhat  yhat_lower  yhat_upper\n",
       "23 2017-12-01  223.061447  194.219444  270.650003\n",
       "24 2017-12-31  225.366747  174.512447  269.961567\n",
       "25 2018-01-31  227.748891  184.511097  289.933071\n",
       "26 2018-02-28  229.900505  186.058960  269.365786\n",
       "27 2018-03-31  232.282648  170.742944  268.123355"
      ]
     },
     "execution_count": 95,
     "metadata": {},
     "output_type": "execute_result"
    }
   ],
   "source": [
    "# 预测数据集\n",
    "forecast = model.predict(future)\n",
    "forecast[['ds', 'yhat', 'yhat_lower', 'yhat_upper']].tail()"
   ]
  },
  {
   "cell_type": "code",
   "execution_count": 96,
   "metadata": {},
   "outputs": [
    {
     "data": {
      "image/png": "[encoded data removed]",
      "text/plain": [
       "<Figure size 720x432 with 1 Axes>"
      ]
     },
     "metadata": {},
     "output_type": "display_data"
    }
   ],
   "source": [
    "# 展示预测结果\n",
    "model.plot(forecast);"
   ]
  },
  {
   "cell_type": "markdown",
   "metadata": {},
   "source": [
    "## lightgbm"
   ]
  },
  {
   "cell_type": "markdown",
   "metadata": {},
   "source": [
    "## 划分数据"
   ]
  },
  {
   "cell_type": "code",
   "execution_count": 29,
   "metadata": {},
   "outputs": [],
   "source": [
    "to_drop = ['province', 'adcode', 'model', 'bodyType']\n",
    "model_data =  one_province_data\n",
    "model_data = model_data.drop(to_drop, axis='columns')\n",
    "\n",
    "\n",
    "train = model_data[0:20]\n",
    "\n",
    "x_train = train.drop('salesVolume', axis = 'columns')\n",
    "y_train = train['salesVolume']\n",
    "\n",
    "test = model_data[20:]\n",
    "x_test = test.drop('salesVolume', axis = 'columns')\n",
    "y_test = test['salesVolume']"
   ]
  },
  {
   "cell_type": "code",
   "execution_count": 30,
   "metadata": {},
   "outputs": [
    {
     "data": {
      "text/html": [
       "<div>\n",
       "<style scoped>\n",
       "    .dataframe tbody tr th:only-of-type {\n",
       "        vertical-align: middle;\n",
       "    }\n",
       "\n",
       "    .dataframe tbody tr th {\n",
       "        vertical-align: top;\n",
       "    }\n",
       "\n",
       "    .dataframe thead th {\n",
       "        text-align: right;\n",
       "    }\n",
       "</style>\n",
       "<table border=\"1\" class=\"dataframe\">\n",
       "  <thead>\n",
       "    <tr style=\"text-align: right;\">\n",
       "      <th></th>\n",
       "      <th>popularity</th>\n",
       "      <th>carCommentVolum</th>\n",
       "      <th>newsReplyVolum</th>\n",
       "    </tr>\n",
       "    <tr>\n",
       "      <th>Date</th>\n",
       "      <th></th>\n",
       "      <th></th>\n",
       "      <th></th>\n",
       "    </tr>\n",
       "  </thead>\n",
       "  <tbody>\n",
       "    <tr>\n",
       "      <th>2017-09-01</th>\n",
       "      <td>1028</td>\n",
       "      <td>1058</td>\n",
       "      <td>378</td>\n",
       "    </tr>\n",
       "    <tr>\n",
       "      <th>2017-10-01</th>\n",
       "      <td>186</td>\n",
       "      <td>784</td>\n",
       "      <td>1947</td>\n",
       "    </tr>\n",
       "    <tr>\n",
       "      <th>2017-11-01</th>\n",
       "      <td>341</td>\n",
       "      <td>608</td>\n",
       "      <td>1113</td>\n",
       "    </tr>\n",
       "    <tr>\n",
       "      <th>2017-12-01</th>\n",
       "      <td>193</td>\n",
       "      <td>403</td>\n",
       "      <td>2037</td>\n",
       "    </tr>\n",
       "  </tbody>\n",
       "</table>\n",
       "</div>"
      ],
      "text/plain": [
       "            popularity  carCommentVolum  newsReplyVolum\n",
       "Date                                                   \n",
       "2017-09-01        1028             1058             378\n",
       "2017-10-01         186              784            1947\n",
       "2017-11-01         341              608            1113\n",
       "2017-12-01         193              403            2037"
      ]
     },
     "execution_count": 30,
     "metadata": {},
     "output_type": "execute_result"
    }
   ],
   "source": [
    "x_test"
   ]
  },
  {
   "cell_type": "code",
   "execution_count": 31,
   "metadata": {},
   "outputs": [
    {
     "data": {
      "text/plain": [
       "Date\n",
       "2017-09-01    174\n",
       "2017-10-01    213\n",
       "2017-11-01    221\n",
       "2017-12-01    250\n",
       "Name: salesVolume, dtype: int64"
      ]
     },
     "execution_count": 31,
     "metadata": {},
     "output_type": "execute_result"
    }
   ],
   "source": [
    "y_test"
   ]
  },
  {
   "cell_type": "code",
   "execution_count": 38,
   "metadata": {},
   "outputs": [
    {
     "name": "stdout",
     "output_type": "stream",
     "text": [
      "[1]\tvalid_0's l2: 29806.5\tvalid_0's auc: 1\n",
      "Training until validation scores don't improve for 5 rounds\n",
      "[2]\tvalid_0's l2: 29806.5\tvalid_0's auc: 1\n",
      "[3]\tvalid_0's l2: 29806.5\tvalid_0's auc: 1\n",
      "[4]\tvalid_0's l2: 29806.5\tvalid_0's auc: 1\n",
      "[5]\tvalid_0's l2: 29806.5\tvalid_0's auc: 1\n",
      "[6]\tvalid_0's l2: 29806.5\tvalid_0's auc: 1\n",
      "Early stopping, best iteration is:\n",
      "[1]\tvalid_0's l2: 29806.5\tvalid_0's auc: 1\n"
     ]
    }
   ],
   "source": [
    "import lightgbm as lgb\n",
    "\n",
    "\n",
    "lgb_train = lgb.Dataset(x_train, y_train)\n",
    "lgb_test = lgb.Dataset(x_test, y_test, reference=lgb_train)\n",
    "\n",
    "params = {\n",
    "        'task': 'train',\n",
    "        'boosting_type': 'gbdt',\n",
    "        'objective': 'regression',\n",
    "        'metric': {'l2', 'auc'},\n",
    "        'num_leaves': 31,\n",
    "        'learning_rate': 0.05,\n",
    "        'feature_fraction': 0.9,\n",
    "        'bagging_fraction': 0.8,\n",
    "        'bagging_freq': 5,\n",
    "        'verbose': 0\n",
    "        }\n",
    "\n",
    "model = lgb.train(params,\n",
    "                  lgb_train,\n",
    "                  num_boost_round=20,\n",
    "                  valid_sets=lgb_test, \n",
    "                  early_stopping_rounds=5)\n",
    "\n",
    "y_pred = model.predict(x_test, num_iteration=model.best_iteration)"
   ]
  },
  {
   "cell_type": "code",
   "execution_count": 39,
   "metadata": {},
   "outputs": [
    {
     "data": {
      "text/plain": [
       "array([192.5, 192.5, 192.5, 192.5])"
      ]
     },
     "execution_count": 39,
     "metadata": {},
     "output_type": "execute_result"
    }
   ],
   "source": [
    "y_pred"
   ]
  },
  {
   "cell_type": "code",
   "execution_count": null,
   "metadata": {},
   "outputs": [],
   "source": []
  }
 ],
 "metadata": {
  "file_extension": ".py",
  "kernelspec": {
   "display_name": "Python 3",
   "language": "python",
   "name": "python3"
  },
  "language_info": {
   "codemirror_mode": {
    "name": "ipython",
    "version": 3
   },
   "file_extension": ".py",
   "mimetype": "text/x-python",
   "name": "python",
   "nbconvert_exporter": "python",
   "pygments_lexer": "ipython3",
   "version": "3.7.3"
  },
  "mimetype": "text/x-python",
  "name": "python",
  "npconvert_exporter": "python",
  "pygments_lexer": "ipython3",
  "version": 3
 },
 "nbformat": 4,
 "nbformat_minor": 4
}
